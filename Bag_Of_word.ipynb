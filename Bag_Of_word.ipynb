{
  "nbformat": 4,
  "nbformat_minor": 0,
  "metadata": {
    "colab": {
      "provenance": []
    },
    "kernelspec": {
      "name": "python3",
      "display_name": "Python 3"
    },
    "language_info": {
      "name": "python"
    }
  },
  "cells": [
    {
      "cell_type": "code",
      "execution_count": null,
      "metadata": {
        "colab": {
          "base_uri": "https://localhost:8080/"
        },
        "id": "h-Lf2JGGX-lr",
        "outputId": "9ae0efd6-f203-42fe-fdd4-9bd519b7f2f7"
      },
      "outputs": [
        {
          "output_type": "stream",
          "name": "stdout",
          "text": [
            "Cosine Similarity Matrix:\n",
            "[[1.         0.63900965]\n",
            " [0.63900965 1.        ]]\n",
            "\n",
            "Cosine Similarity between Job Description and Resume: 0.6390096504226939\n"
          ]
        }
      ],
      "source": [
        "from sklearn.feature_extraction.text import CountVectorizer\n",
        "from sklearn.metrics.pairwise import cosine_similarity\n",
        "\n",
        "# Example job description and candidate's resume\n",
        "job_description = \"Looking for a software engineer proficient in Python and machine learning\"\n",
        "resume = \"Experienced software engineer with expertise in Python programming and machine learning algorithms\"\n",
        "\n",
        "# Convert job description and resume into a list\n",
        "documents = [job_description, resume]\n",
        "\n",
        "# Initialize CountVectorizer to convert text into a bag of words\n",
        "vectorizer = CountVectorizer()\n",
        "\n",
        "# Fit and transform the documents into a matrix of token counts\n",
        "matrix = vectorizer.fit_transform(documents)\n",
        "\n",
        "# Compute cosine similarity between job description and resume\n",
        "cos_sim = cosine_similarity(matrix)\n",
        "\n",
        "# The cosine similarity matrix\n",
        "print(\"Cosine Similarity Matrix:\")\n",
        "print(cos_sim)\n",
        "\n",
        "# Extract cosine similarity value for job description and resume\n",
        "job_resume_similarity = cos_sim[0, 1]\n",
        "print(f\"\\nCosine Similarity between Job Description and Resume: {job_resume_similarity}\")\n"
      ]
    },
    {
      "cell_type": "code",
      "source": [
        "from sklearn.feature_extraction.text import TfidfVectorizer\n",
        "from sklearn.metrics.pairwise import cosine_similarity\n",
        "\n",
        "# Example job description and candidate's resume\n",
        "job_description = \"Looking for a software engineer proficient in Python and machine learning\"\n",
        "resume = \"Experienced software engineer with expertise in Python programming and machine learning algorithms\"\n",
        "\n",
        "# Convert job description and resume into a list\n",
        "documents = [job_description, resume]\n",
        "\n",
        "# Initialize TfidfVectorizer to convert text into TF-IDF features\n",
        "vectorizer = TfidfVectorizer()\n",
        "\n",
        "# Fit and transform the documents into a TF-IDF matrix\n",
        "tfidf_matrix = vectorizer.fit_transform(documents)\n",
        "\n",
        "# Compute cosine similarity between job description and resume using TF-IDF\n",
        "cos_sim_tfidf = cosine_similarity(tfidf_matrix)\n",
        "\n",
        "# The cosine similarity matrix using TF-IDF\n",
        "print(\"Cosine Similarity Matrix (TF-IDF):\")\n",
        "print(cos_sim_tfidf)\n",
        "\n",
        "# Extract cosine similarity value for job description and resume\n",
        "job_resume_similarity_tfidf = cos_sim_tfidf[0, 1]\n",
        "print(f\"\\nCosine Similarity between Job Description and Resume (TF-IDF): {job_resume_similarity_tfidf}\")\n"
      ],
      "metadata": {
        "colab": {
          "base_uri": "https://localhost:8080/"
        },
        "id": "mkHdylK1ZZoE",
        "outputId": "610daef1-9c00-4fba-8452-0f0cdced46d6"
      },
      "execution_count": null,
      "outputs": [
        {
          "output_type": "stream",
          "name": "stdout",
          "text": [
            "Cosine Similarity Matrix (TF-IDF):\n",
            "[[1.         0.47393934]\n",
            " [0.47393934 1.        ]]\n",
            "\n",
            "Cosine Similarity between Job Description and Resume (TF-IDF): 0.4739393421029532\n"
          ]
        }
      ]
    },
    {
      "cell_type": "code",
      "source": [
        "from sklearn.feature_extraction.text import TfidfVectorizer\n",
        "from sklearn.metrics.pairwise import cosine_similarity\n",
        "import re\n",
        "\n",
        "# Example job description and candidate's resume\n",
        "job_description = \"Looking for a software engineer proficient in Python and machine learning\"\n",
        "resume = \"Experienced software engineer with expertise in Python programming and machine learning algorithms\"\n",
        "\n",
        "# Preprocessing function to clean text\n",
        "def preprocess_text(text):\n",
        "    # Convert text to lowercase\n",
        "    text = text.lower()\n",
        "    # Remove non-alphanumeric characters and extra whitespaces\n",
        "    text = re.sub(r'[^a-zA-Z0-9\\s]', '', text)\n",
        "    return text\n",
        "\n",
        "# Preprocess job description and resume\n",
        "clean_job_description = preprocess_text(job_description)\n",
        "clean_resume = preprocess_text(resume)\n",
        "\n",
        "# Convert job description and resume into a list\n",
        "documents = [clean_job_description, clean_resume]\n",
        "\n",
        "# Initialize TfidfVectorizer to convert text into TF-IDF features\n",
        "vectorizer = TfidfVectorizer()\n",
        "\n",
        "# Fit and transform the documents into a TF-IDF matrix\n",
        "tfidf_matrix = vectorizer.fit_transform(documents)\n",
        "\n",
        "# Compute cosine similarity between job description and resume using TF-IDF\n",
        "cos_sim_tfidf = cosine_similarity(tfidf_matrix)\n",
        "\n",
        "# The cosine similarity matrix using TF-IDF\n",
        "print(\"Cosine Similarity Matrix (TF-IDF):\")\n",
        "print(cos_sim_tfidf)\n",
        "\n",
        "# Extract cosine similarity value for job description and resume\n",
        "job_resume_similarity_tfidf = cos_sim_tfidf[0, 1]\n",
        "print(f\"\\nCosine Similarity between Job Description and Resume (TF-IDF): {job_resume_similarity_tfidf}\")\n"
      ],
      "metadata": {
        "colab": {
          "base_uri": "https://localhost:8080/"
        },
        "id": "RwLOEz_9aRT7",
        "outputId": "1a7431ce-a0ab-46e0-c1f1-7a02fa4ce528"
      },
      "execution_count": null,
      "outputs": [
        {
          "output_type": "stream",
          "name": "stdout",
          "text": [
            "Cosine Similarity Matrix (TF-IDF):\n",
            "[[1.         0.47393934]\n",
            " [0.47393934 1.        ]]\n",
            "\n",
            "Cosine Similarity between Job Description and Resume (TF-IDF): 0.4739393421029532\n"
          ]
        }
      ]
    },
    {
      "cell_type": "markdown",
      "source": [
        "Cosine simalirity"
      ],
      "metadata": {
        "id": "CCFdeNI-b9-L"
      }
    },
    {
      "cell_type": "code",
      "source": [
        "import numpy as np\n",
        "from numpy.linalg import norm\n",
        "\n",
        "# Two example vectors representing documents\n",
        "vector_a = np.array([2, 1, 0, 2, 2])  # Vector representation of document A\n",
        "vector_b = np.array([3, 1, 1, 0, 2])  # Vector representation of document B\n",
        "\n",
        "# Calculate dot product of the two vectors\n",
        "dot_product = np.dot(vector_a, vector_b)\n",
        "\n",
        "# Calculate the magnitudes of the vectors\n",
        "magnitude_a = norm(vector_a)\n",
        "magnitude_b = norm(vector_b)\n",
        "\n",
        "# Calculate cosine similarity\n",
        "cosine_similarity = dot_product / (magnitude_a * magnitude_b)\n",
        "\n",
        "print(f\"Cosine Similarity between the two vectors: {cosine_similarity}\")\n"
      ],
      "metadata": {
        "colab": {
          "base_uri": "https://localhost:8080/"
        },
        "id": "59uiFVcDavE2",
        "outputId": "7e561210-ef2b-4382-85ff-fb0c43d0aae2"
      },
      "execution_count": null,
      "outputs": [
        {
          "output_type": "stream",
          "name": "stdout",
          "text": [
            "Cosine Similarity between the two vectors: 0.7877263614433762\n"
          ]
        }
      ]
    },
    {
      "cell_type": "markdown",
      "source": [
        "#Cosine Simalrity"
      ],
      "metadata": {
        "id": "pzpEel2_sFGV"
      }
    },
    {
      "cell_type": "code",
      "source": [
        "from sklearn.feature_extraction.text import CountVectorizer\n",
        "from sklearn.metrics.pairwise import cosine_similarity\n",
        "\n",
        "# Example job description and candidate's resume\n",
        "job_description = \"Looking for a software engineer proficient in Python and machine learning\"\n",
        "resume = \"Experienced software engineer with expertise in Python programming and machine learning algorithms\"\n",
        "\n",
        "# Convert job description and resume into a list\n",
        "documents = [job_description, resume]\n",
        "\n",
        "# Initialize CountVectorizer to convert text into a bag of words (word frequencies)\n",
        "vectorizer = CountVectorizer()\n",
        "\n",
        "# Fit and transform the documents into a matrix of word frequencies\n",
        "matrix = vectorizer.fit_transform(documents)\n",
        "\n",
        "# Get the word frequency vectors for the job description and resume\n",
        "job_vector = matrix[0].toarray().flatten()  # Vector representation of job description\n",
        "resume_vector = matrix[1].toarray().flatten()  # Vector representation of resume\n",
        "\n",
        "# Calculate cosine similarity between job description and resume\n",
        "cos_sim = cosine_similarity([job_vector], [resume_vector])\n",
        "\n",
        "print(f\"Cosine Similarity between Job Description and Resume: {cos_sim[0][0]}\")\n"
      ],
      "metadata": {
        "colab": {
          "base_uri": "https://localhost:8080/"
        },
        "id": "ITLA2wqvcEKE",
        "outputId": "5df1c597-3044-4b10-fcc7-6e118b7e859a"
      },
      "execution_count": null,
      "outputs": [
        {
          "output_type": "stream",
          "name": "stdout",
          "text": [
            "Cosine Similarity between Job Description and Resume: 0.6390096504226939\n"
          ]
        }
      ]
    },
    {
      "cell_type": "code",
      "source": [
        "job_vector"
      ],
      "metadata": {
        "colab": {
          "base_uri": "https://localhost:8080/"
        },
        "id": "uUztstLerfD0",
        "outputId": "a93675af-b8af-4a57-bdb6-c1f3da680ac0"
      },
      "execution_count": null,
      "outputs": [
        {
          "output_type": "execute_result",
          "data": {
            "text/plain": [
              "array([0, 1, 1, 0, 0, 1, 1, 1, 1, 1, 1, 0, 1, 1, 0])"
            ]
          },
          "metadata": {},
          "execution_count": 24
        }
      ]
    },
    {
      "cell_type": "code",
      "source": [
        "resume_vector"
      ],
      "metadata": {
        "colab": {
          "base_uri": "https://localhost:8080/"
        },
        "id": "syNQ2Jb7sAo5",
        "outputId": "027aa176-3404-4b57-e70e-a2fdf6e7a204"
      },
      "execution_count": null,
      "outputs": [
        {
          "output_type": "execute_result",
          "data": {
            "text/plain": [
              "array([1, 1, 1, 1, 1, 0, 1, 1, 0, 1, 0, 1, 1, 1, 1])"
            ]
          },
          "metadata": {},
          "execution_count": 25
        }
      ]
    },
    {
      "cell_type": "markdown",
      "source": [
        "# Jaccard Similarity"
      ],
      "metadata": {
        "id": "iEYopdyAxB4f"
      }
    },
    {
      "cell_type": "code",
      "source": [
        "# Example sets representing words in two documents\n",
        "doc_a = set(['apple', 'banana', 'orange', 'pear'])\n",
        "doc_b = set(['banana', 'orange', 'grape', 'watermelon'])\n",
        "\n",
        "# Calculate Jaccard Similarity\n",
        "intersection = len(doc_a.intersection(doc_b))  # Number of common elements\n",
        "union = len(doc_a.union(doc_b))  # Total unique elements\n",
        "\n",
        "jaccard_similarity = intersection / union\n",
        "print(f\"Jaccard Similarity between the two sets: {jaccard_similarity}\")\n"
      ],
      "metadata": {
        "colab": {
          "base_uri": "https://localhost:8080/"
        },
        "id": "lKloLhJlsDVR",
        "outputId": "b3673c48-b90c-4734-f586-651897b3b71e"
      },
      "execution_count": null,
      "outputs": [
        {
          "output_type": "stream",
          "name": "stdout",
          "text": [
            "Jaccard Similarity between the two sets: 0.3333333333333333\n"
          ]
        }
      ]
    },
    {
      "cell_type": "markdown",
      "source": [
        "# Euclidean Distance"
      ],
      "metadata": {
        "id": "sGkaY--BxZXr"
      }
    },
    {
      "cell_type": "code",
      "source": [
        "import numpy as np\n",
        "\n",
        "# Coordinates of two points in a 2D space\n",
        "point_a = np.array([1, 2])\n",
        "point_b = np.array([4, 6])\n",
        "\n",
        "# Calculate Euclidean Distance\n",
        "euclidean_distance = np.linalg.norm(point_a - point_b)\n",
        "print(f\"Euclidean Distance between the two points: {euclidean_distance}\")\n"
      ],
      "metadata": {
        "colab": {
          "base_uri": "https://localhost:8080/"
        },
        "id": "dOwdDuSdxG3Z",
        "outputId": "14fc1582-697f-4581-afab-8edfbbbc61df"
      },
      "execution_count": null,
      "outputs": [
        {
          "output_type": "stream",
          "name": "stdout",
          "text": [
            "Euclidean Distance between the two points: 5.0\n"
          ]
        }
      ]
    },
    {
      "cell_type": "markdown",
      "source": [
        "# TF-IDF"
      ],
      "metadata": {
        "id": "3dZiRINO27Rn"
      }
    },
    {
      "cell_type": "code",
      "source": [
        "from sklearn.feature_extraction.text import TfidfVectorizer\n",
        "\n",
        "# Example documents\n",
        "documents = [\n",
        "    \"This is the first document.\",\n",
        "    \"This document is the second document.\",\n",
        "    \"And this is the third one.\",\n",
        "    \"Is this the first document?\",\n",
        "]\n",
        "\n",
        "# Initialize TfidfVectorizer to convert text into TF-IDF features\n",
        "vectorizer = TfidfVectorizer()\n",
        "\n",
        "# Fit and transform the documents into TF-IDF matrices\n",
        "tfidf_matrix = vectorizer.fit_transform(documents)\n",
        "\n",
        "# Print the TF-IDF matrix\n",
        "print(\"TF-IDF Matrix:\")\n",
        "print(tfidf_matrix.toarray())\n",
        "\n",
        "# Get feature names (words)\n",
        "feature_names = vectorizer.get_feature_names_out()\n",
        "print(\"\\nFeature Names:\")\n",
        "print(feature_names)\n"
      ],
      "metadata": {
        "colab": {
          "base_uri": "https://localhost:8080/"
        },
        "id": "ktJGkuDKzfsa",
        "outputId": "1d40e6d3-750a-4240-e147-977a147f7897"
      },
      "execution_count": null,
      "outputs": [
        {
          "output_type": "stream",
          "name": "stdout",
          "text": [
            "TF-IDF Matrix:\n",
            "[[0.         0.46979139 0.58028582 0.38408524 0.         0.\n",
            "  0.38408524 0.         0.38408524]\n",
            " [0.         0.6876236  0.         0.28108867 0.         0.53864762\n",
            "  0.28108867 0.         0.28108867]\n",
            " [0.51184851 0.         0.         0.26710379 0.51184851 0.\n",
            "  0.26710379 0.51184851 0.26710379]\n",
            " [0.         0.46979139 0.58028582 0.38408524 0.         0.\n",
            "  0.38408524 0.         0.38408524]]\n",
            "\n",
            "Feature Names:\n",
            "['and' 'document' 'first' 'is' 'one' 'second' 'the' 'third' 'this']\n"
          ]
        }
      ]
    },
    {
      "cell_type": "markdown",
      "source": [
        "#Practice"
      ],
      "metadata": {
        "id": "EeHzrBsO6zVw"
      }
    },
    {
      "cell_type": "code",
      "source": [
        "!pip install PyPDF2"
      ],
      "metadata": {
        "colab": {
          "base_uri": "https://localhost:8080/"
        },
        "id": "nT1pMAPh7Rqw",
        "outputId": "f7ae8085-a770-42e8-f855-41db26ba2669"
      },
      "execution_count": null,
      "outputs": [
        {
          "output_type": "stream",
          "name": "stdout",
          "text": [
            "Collecting PyPDF2\n",
            "  Downloading pypdf2-3.0.1-py3-none-any.whl (232 kB)\n",
            "\u001b[2K     \u001b[90m━━━━━━━━━━━━━━━━━━━━━━━━━━━━━━━━━━━━━━━━\u001b[0m \u001b[32m232.6/232.6 kB\u001b[0m \u001b[31m3.7 MB/s\u001b[0m eta \u001b[36m0:00:00\u001b[0m\n",
            "\u001b[?25hInstalling collected packages: PyPDF2\n",
            "Successfully installed PyPDF2-3.0.1\n"
          ]
        }
      ]
    },
    {
      "cell_type": "code",
      "source": [
        "import PyPDF2\n",
        "import re\n",
        "import nltk\n",
        "import numpy as np\n",
        "from sklearn.feature_extraction.text import CountVectorizer, TfidfVectorizer\n",
        "from sklearn.metrics.pairwise import cosine_similarity\n",
        "from nltk.tokenize import word_tokenize\n",
        "from nltk.corpus import stopwords\n",
        "nltk.download('punkt')\n",
        "nltk.download('stopwords')\n",
        "\n",
        "# Function to extract text from a PDF file\n",
        "def extract_text_from_pdf(file_path):\n",
        "    with open(file_path, 'rb') as file:\n",
        "        reader = PyPDF2.PdfReader(file)\n",
        "        num_pages = len(reader.pages)\n",
        "        text = ''\n",
        "        for page_num in range(num_pages):\n",
        "            page = reader.pages[page_num]\n",
        "            text += page.extract_text()\n",
        "    return text\n",
        "\n",
        "# Function to preprocess text\n",
        "def preprocess_text(text):\n",
        "    # Convert text to lowercase\n",
        "    text = text.lower()\n",
        "    # Remove non-alphanumeric characters and extra whitespaces\n",
        "    text = re.sub(r'[^a-zA-Z0-9\\s]', '', text)\n",
        "    return text\n",
        "\n",
        "# Function to calculate Jaccard Similarity\n",
        "def jaccard_similarity(set_a, set_b):\n",
        "    intersection = len(set_a.intersection(set_b))\n",
        "    union = len(set_a.union(set_b))\n",
        "    return intersection / union if union != 0 else 0\n",
        "\n",
        "# Input file paths for resume PDF and job description text\n",
        "resume_file_path = '/content/SIddhesh Mhatre.pdf'  # Replace with the path to your resume PDF\n",
        "job_description = '''Design, develop, and implement high-quality software solutions using Python, Java, React, GraphQL, and other cutting-edge technologies.\n",
        "Collaborate with cross-functional teams to understand requirements and deliver exceptional products.\n",
        "Write clean, maintainable, and well-documented code.\n",
        "Test and debug software to ensure functionality and performance.\n",
        "Stay up-to-date with the latest technologies and best practices.\n",
        "Here's what you'll bring: Bachelor's degree in Information Technology or a related field (Master's degree preferred).\n",
        "Proven experience in software development, with a strong portfolio of projects.\n",
        "Proficiency in Python, Java, React, GraphQL, and MySQL.\n",
        "Experience with machine learning and natural language processing is a plus.\n",
        "Excellent problem-solving, analytical, and communication skills.\n",
        "Ability to work independently and as part of a team.\n",
        "Adaptability to changing requirements and deadlines.''' # Replace with your job description\n",
        "\n",
        "# Extract text from resume PDF\n",
        "resume_text = extract_text_from_pdf(resume_file_path)\n",
        "\n",
        "# Preprocess resume and job description text\n",
        "cleaned_resume = preprocess_text(resume_text)\n",
        "cleaned_job_description = preprocess_text(job_description)\n",
        "\n",
        "# Tokenize cleaned text\n",
        "tokenized_resume = word_tokenize(cleaned_resume)\n",
        "tokenized_job_description = word_tokenize(cleaned_job_description)\n",
        "\n",
        "# Create sets of tokens for Jaccard Similarity\n",
        "set_resume = set(tokenized_resume)\n",
        "set_job_description = set(tokenized_job_description)\n",
        "\n",
        "# Calculate cosine similarity using TF-IDF\n",
        "vectorizer = TfidfVectorizer()\n",
        "tfidf_matrix = vectorizer.fit_transform([cleaned_resume, cleaned_job_description])\n",
        "cosine_sim_tfidf = cosine_similarity(tfidf_matrix)[0, 1]\n",
        "\n",
        "# Calculate Jaccard Similarity\n",
        "jaccard_sim = jaccard_similarity(set_resume, set_job_description)\n",
        "\n",
        "# Calculate Euclidean Distance\n",
        "vectorizer = CountVectorizer()\n",
        "count_matrix = vectorizer.fit_transform([cleaned_resume, cleaned_job_description]).toarray()\n",
        "euclidean_distance = np.linalg.norm(count_matrix[0] - count_matrix[1])\n",
        "\n",
        "# Display similarity scores\n",
        "print(f\"Cosine Similarity (TF-IDF): {cosine_sim_tfidf}\")\n",
        "print(f\"Jaccard Similarity: {jaccard_sim}\")\n",
        "print(f\"Euclidean Distance: {euclidean_distance}\")\n"
      ],
      "metadata": {
        "colab": {
          "base_uri": "https://localhost:8080/"
        },
        "id": "aB1wfV6g3f7x",
        "outputId": "39990315-ccae-4274-9147-5cad99949772"
      },
      "execution_count": null,
      "outputs": [
        {
          "output_type": "stream",
          "name": "stdout",
          "text": [
            "Cosine Similarity (TF-IDF): 0.09245749254649388\n",
            "Jaccard Similarity: 0.05128205128205128\n",
            "Euclidean Distance: 18.681541692269406\n"
          ]
        },
        {
          "output_type": "stream",
          "name": "stderr",
          "text": [
            "[nltk_data] Downloading package punkt to /root/nltk_data...\n",
            "[nltk_data]   Package punkt is already up-to-date!\n",
            "[nltk_data] Downloading package stopwords to /root/nltk_data...\n",
            "[nltk_data]   Package stopwords is already up-to-date!\n"
          ]
        }
      ]
    },
    {
      "cell_type": "markdown",
      "source": [
        "Cosine Similarity (TF-IDF) indicates relatively low similarity between the resume and job description in the context of word importance.\n",
        "Jaccard Similarity shows a low overlap of unique words between the two texts.\n",
        "Euclidean Distance suggests significant dissimilarity between the word frequency vectors of the resume and job description."
      ],
      "metadata": {
        "id": "7agPyOpsAUGB"
      }
    },
    {
      "cell_type": "markdown",
      "source": [
        "Practice"
      ],
      "metadata": {
        "id": "JIN6Gxnjsadg"
      }
    },
    {
      "cell_type": "code",
      "source": [
        "# Job description and resume text\n",
        "job_description = \"\"\"\n",
        "We are seeking a skilled Python Developer to join our dynamic team. As a Python Developer, you will be responsible for developing and maintaining high-quality software applications, utilizing your expertise in Python programming. The ideal candidate should have a strong foundation in Python, excellent problem-solving abilities, and a passion for creating efficient and scalable solutions.\n",
        "\"\"\"\n",
        "\n",
        "resume_text = \"\"\"\n",
        "SIDDHESH MHATRE\n",
        "SOFTWARE DEVELOPER\n",
        "...\n",
        "Skills\n",
        "Languages Python , java, pandas ,HTML/CSS, MySQL\n",
        "...\n",
        "Experience\n",
        "Infogen Labs Inc remote\n",
        "MACHINE LEARNING INTERNSHIP Dec 2023 - Present\n",
        "• Engaged in developing and implementing machine learning models for data analysis tasks.\n",
        "• Completed self-paced projects in Python focusing on data prepossessing and basic machine learning models (e.g., regression, classification.\n",
        "...\n",
        "Projects\n",
        "Dog Skin Diseases Detection and Identification using CNN\n",
        "...\n",
        "ResuMatch - AI-Powered Resume Selection\n",
        "...\n",
        "Achievements\n",
        "Publication: Springer Scopus (ICACI-2022)\n",
        "...\n",
        "Certifications\n",
        "• GraphQL with React and Node js - View\n",
        "...\n",
        "\"\"\"\n",
        "\n",
        "# Define key skills and qualifications from the job description\n",
        "key_skills = ['Python', 'problem-solving', 'software development', 'front-end technologies', 'Bachelor', 'communication', 'teamwork']\n",
        "\n",
        "# Extracting relevant sections from the resume\n",
        "skills_section_start = resume_text.find('Skills')\n",
        "experience_section_start = resume_text.find('Experience')\n",
        "certifications_section_start = resume_text.find('Certifications')\n",
        "\n",
        "skills_section = resume_text[skills_section_start:experience_section_start]\n",
        "experience_section = resume_text[experience_section_start:certifications_section_start]\n",
        "# Extracting skills from the skills section\n",
        "extracted_skills = [skill.strip() for skill in skills_section.split('\\n') if any(keyword.lower() in skill.lower() for keyword in key_skills)]\n",
        "\n",
        "# Matching qualifications and skills with the job description\n",
        "matched_qualifications = [qualification for qualification in key_skills if any(qualification.lower() in resume_text.lower() for qualification in key_skills)]\n",
        "\n",
        "# Check if all key skills are found in the resume\n",
        "all_skills_matched = all(skill.lower() in resume_text.lower() for skill in key_skills)\n",
        "\n",
        "# Check eligibility based on matching qualifications\n",
        "if len(matched_qualifications) >= len(key_skills) * 0.7:\n",
        "    eligibility_status = \"Eligible\"\n",
        "else:\n",
        "    eligibility_status = \"Not Eligible\"\n",
        "\n",
        "# Print extracted skills, matched qualifications, and eligibility status\n",
        "print(\"Extracted Skills from Resume:\", extracted_skills)\n",
        "print(\"Matched Qualifications:\", matched_qualifications)\n",
        "print(\"Eligibility Status:\", eligibility_status)\n"
      ],
      "metadata": {
        "id": "l9t29ZEw7CX6",
        "colab": {
          "base_uri": "https://localhost:8080/"
        },
        "outputId": "680204fb-d044-4d4c-cbde-3f0b2a3a8646"
      },
      "execution_count": null,
      "outputs": [
        {
          "output_type": "stream",
          "name": "stdout",
          "text": [
            "Extracted Skills from Resume: ['Languages Python , java, pandas ,HTML/CSS, MySQL']\n",
            "Matched Qualifications: ['Python', 'problem-solving', 'software development', 'front-end technologies', 'Bachelor', 'communication', 'teamwork']\n",
            "Eligibility Status: Eligible\n"
          ]
        }
      ]
    },
    {
      "cell_type": "code",
      "source": [
        "matched_qualifications"
      ],
      "metadata": {
        "colab": {
          "base_uri": "https://localhost:8080/"
        },
        "id": "VoKnRWBGsce_",
        "outputId": "babc4ab2-243f-4fa5-c085-5990c03ef077"
      },
      "execution_count": null,
      "outputs": [
        {
          "output_type": "execute_result",
          "data": {
            "text/plain": [
              "['Python',\n",
              " 'problem-solving',\n",
              " 'software development',\n",
              " 'front-end technologies',\n",
              " 'Bachelor',\n",
              " 'communication',\n",
              " 'teamwork']"
            ]
          },
          "metadata": {},
          "execution_count": 5
        }
      ]
    },
    {
      "cell_type": "code",
      "source": [
        "from sklearn.feature_extraction.text import TfidfVectorizer\n",
        "from sklearn.metrics.pairwise import cosine_similarity\n",
        "import re\n",
        "\n",
        "# Job description and resume text\n",
        "job_description = \"\"\"\n",
        "Job Title: Python Developer\n",
        "\n",
        "Job Description:\n",
        "\n",
        "We are seeking a skilled Python Developer to join our dynamic team. As a Python Developer, you will be responsible for developing and maintaining high-quality software applications, utilizing your expertise in Python programming. The ideal candidate should have a strong foundation in Python, excellent problem-solving abilities, and a passion for creating efficient and scalable solutions.\n",
        "\n",
        "Responsibilities:\n",
        "\n",
        "Design, develop, and implement software solutions using Python programming language.\n",
        "Collaborate with cross-functional teams to define, design, and ship new features.\n",
        "Troubleshoot, debug, and enhance existing software applications.\n",
        "Write clean, maintainable, and efficient code.\n",
        "Participate in code reviews and provide constructive feedback.\n",
        "Requirements:\n",
        "\n",
        "Bachelor's degree in Computer Science, Engineering, or related field.\n",
        "Proven experience as a Python Developer or similar role.\n",
        "Proficient in Python programming with a deep understanding of Python libraries and frameworks.\n",
        "Familiarity with front-end technologies (such as JavaScript, HTML, CSS) is a plus.\n",
        "Strong problem-solving skills and attention to detail.\n",
        "Excellent communication and teamwork abilities.\n",
        "Benefits:\n",
        "\n",
        "Competitive salary package.\n",
        "Opportunity to work on cutting-edge projects.\n",
        "Career growth and development opportunities.\n",
        "Health insurance and other benefits.\n",
        "\n",
        "\"\"\"\n",
        "\n",
        "resume_text = \"\"\"\n",
        "SIDDHESH MHATRE\n",
        "SOFTWARE DEVELOPER\n",
        "...\n",
        "Skills\n",
        "Languages Python , java, pandas ,HTML/CSS, MySQL\n",
        "...\n",
        "Experience\n",
        "Infogen Labs Inc remote\n",
        "MACHINE LEARNING INTERNSHIP Dec 2023 - Present\n",
        "• Engaged in developing and implementing machine learning models for data analysis tasks.\n",
        "• Completed self-paced projects in Python focusing on data prepossessing and basic machine learning models (e.g., regression, classification.\n",
        "...\n",
        "Projects\n",
        "Dog Skin Diseases Detection and Identification using CNN\n",
        "...\n",
        "ResuMatch - AI-Powered Resume Selection\n",
        "...\n",
        "Achievements\n",
        "Publication: Springer Scopus (ICACI-2022)\n",
        "...\n",
        "Certifications\n",
        "• GraphQL with React and Node js - View\n",
        "...\n",
        "\"\"\"\n",
        "\n",
        "# Preprocess text (remove non-alphanumeric characters and convert to lowercase)\n",
        "def preprocess_text(text):\n",
        "    text = re.sub(r'[^a-zA-Z0-9\\s]', '', text)\n",
        "    return text.lower()\n",
        "\n",
        "# Preprocess job description and resume text\n",
        "cleaned_job_description = preprocess_text(job_description)\n",
        "cleaned_resume_text = preprocess_text(resume_text)\n",
        "\n",
        "# Create TF-IDF vectors for job description and resume\n",
        "vectorizer = TfidfVectorizer()\n",
        "tfidf_matrix = vectorizer.fit_transform([cleaned_job_description, cleaned_resume_text])\n",
        "\n",
        "# Calculate cosine similarity between job description and resume\n",
        "cosine_sim = cosine_similarity(tfidf_matrix)[0, 1]\n",
        "\n",
        "# Set a threshold for similarity score to determine eligibility\n",
        "similarity_threshold = 0.5  # Adjust as needed\n",
        "\n",
        "# Assess eligibility based on cosine similarity\n",
        "if cosine_sim >= similarity_threshold:\n",
        "    eligibility_status = \"Eligible\"\n",
        "else:\n",
        "    eligibility_status = \"Not Eligible\"\n",
        "\n",
        "# Print cosine similarity and eligibility status\n",
        "print(f\"Cosine Similarity: {cosine_sim}\")\n",
        "print(\"Eligibility Status:\", eligibility_status)\n"
      ],
      "metadata": {
        "colab": {
          "base_uri": "https://localhost:8080/"
        },
        "id": "a22CQpdss-qG",
        "outputId": "426e82ab-b3d0-4417-8196-c54f1bff09f0"
      },
      "execution_count": null,
      "outputs": [
        {
          "output_type": "stream",
          "name": "stdout",
          "text": [
            "Cosine Similarity: 0.28330281750173014\n",
            "Eligibility Status: Not Eligible\n"
          ]
        }
      ]
    },
    {
      "cell_type": "code",
      "source": [
        "cleaned_job_description"
      ],
      "metadata": {
        "colab": {
          "base_uri": "https://localhost:8080/",
          "height": 35
        },
        "id": "gMC3OHqAtdVa",
        "outputId": "c3768aac-f3d0-4a95-fce3-64a2e7268a26"
      },
      "execution_count": null,
      "outputs": [
        {
          "output_type": "execute_result",
          "data": {
            "text/plain": [
              "'\\nwe want skill python devloper  as well know java  and data bases mysql  or must me experinced in machine learing\\n'"
            ],
            "application/vnd.google.colaboratory.intrinsic+json": {
              "type": "string"
            }
          },
          "metadata": {},
          "execution_count": 10
        }
      ]
    },
    {
      "cell_type": "code",
      "source": [
        "cleaned_resume_text"
      ],
      "metadata": {
        "colab": {
          "base_uri": "https://localhost:8080/",
          "height": 122
        },
        "id": "I_udZfpStsBR",
        "outputId": "ed7491e4-b775-460c-bf11-476e551e7680"
      },
      "execution_count": null,
      "outputs": [
        {
          "output_type": "execute_result",
          "data": {
            "text/plain": [
              "'\\nsiddhesh mhatre\\nsoftware developer\\n\\nskills\\nlanguages python  java pandas htmlcss mysql\\n\\nexperience\\ninfogen labs inc remote\\nmachine learning internship dec 2023  present\\n engaged in developing and implementing machine learning models for data analysis tasks\\n completed selfpaced projects in python focusing on data prepossessing and basic machine learning models eg regression classification\\n\\nprojects\\ndog skin diseases detection and identification using cnn\\n\\nresumatch  aipowered resume selection\\n\\nachievements\\npublication springer scopus icaci2022\\n\\ncertifications\\n graphql with react and node js  view\\n\\n'"
            ],
            "application/vnd.google.colaboratory.intrinsic+json": {
              "type": "string"
            }
          },
          "metadata": {},
          "execution_count": 9
        }
      ]
    },
    {
      "cell_type": "markdown",
      "source": [
        "Find similer word"
      ],
      "metadata": {
        "id": "td7D0y51wvaU"
      }
    },
    {
      "cell_type": "code",
      "source": [
        "from sklearn.feature_extraction.text import TfidfVectorizer\n",
        "from sklearn.metrics.pairwise import cosine_similarity\n",
        "import re\n",
        "import nltk\n",
        "nltk.download('stopwords')\n",
        "\n",
        "# Job description and resume text (same as before)\n",
        "job_description = \"\"\"\n",
        "Python , java, pandas ,HTML/CSS, MySQL\n",
        "\"\"\"\n",
        "\n",
        "resume_text = \"\"\"\n",
        "SIDDHESH MHATRE\n",
        "SOFTWARE DEVELOPER\n",
        "...\n",
        "Skills\n",
        "Languages Python , java, pandas ,HTML/CSS, MySQL\n",
        "...\n",
        "Experience\n",
        "Infogen Labs Inc remote\n",
        "MACHINE LEARNING INTERNSHIP Dec 2023 - Present\n",
        "• Engaged in developing and implementing machine learning models for data analysis tasks.\n",
        "• Completed self-paced projects in Python focusing on data prepossessing and basic machine learning models (e.g., regression, classification.\n",
        "...\n",
        "Projects\n",
        "Dog Skin Diseases Detection and Identification using CNN\n",
        "...\n",
        "ResuMatch - AI-Powered Resume Selection\n",
        "...\n",
        "Achievements\n",
        "Publication: Springer Scopus (ICACI-2022)\n",
        "...\n",
        "Certifications\n",
        "• GraphQL with React and Node js - View\n",
        "...\n",
        "\"\"\"\n",
        "\n",
        "# Preprocess text (remove non-alphanumeric characters and convert to lowercase)\n",
        "def preprocess_text(text):\n",
        "    text = re.sub(r'[^a-zA-Z0-9\\s]', '', text)\n",
        "    return text.lower()\n",
        "\n",
        "# Preprocess job description and resume text\n",
        "cleaned_job_description = preprocess_text(job_description)\n",
        "cleaned_resume_text = preprocess_text(resume_text)\n",
        "\n",
        "# Create TF-IDF vectors for job description and resume\n",
        "vectorizer = TfidfVectorizer(stop_words='english')  # Specify stopwords\n",
        "tfidf_matrix = vectorizer.fit_transform([cleaned_job_description, cleaned_resume_text])\n",
        "\n",
        "# Calculate cosine similarity between job description and resume\n",
        "cosine_sim = cosine_similarity(tfidf_matrix)[0, 1]\n",
        "\n",
        "# Get feature names (words) from TF-IDF vectorizer\n",
        "feature_names = vectorizer.get_feature_names_out()\n",
        "\n",
        "# Extract words contributing to similarity\n",
        "similar_words_indices = tfidf_matrix[0].toarray().argsort(axis=1)[:, ::-1][:, :10]  # Adjust number of words displayed here\n",
        "similar_words = [feature_names[idx] for idx in similar_words_indices.flatten()]\n",
        "\n",
        "# Print cosine similarity, top similar words, and eligibility status\n",
        "print(f\"Cosine Similarity: {cosine_sim}\")\n",
        "print(\"Top Similar Words:\", similar_words)\n"
      ],
      "metadata": {
        "colab": {
          "base_uri": "https://localhost:8080/"
        },
        "id": "v_IQbGk1uMEW",
        "outputId": "e96083cc-cbfd-4aa1-f5ef-de7dfcb8911f"
      },
      "execution_count": null,
      "outputs": [
        {
          "output_type": "stream",
          "name": "stdout",
          "text": [
            "Cosine Similarity: 0.21076913581016138\n",
            "Top Similar Words: ['java', 'htmlcss', 'mysql', 'pandas', 'python', 'view', 'infogen', 'implementing', 'identification', 'icaci2022']\n"
          ]
        },
        {
          "output_type": "stream",
          "name": "stderr",
          "text": [
            "[nltk_data] Downloading package stopwords to /root/nltk_data...\n",
            "[nltk_data]   Package stopwords is already up-to-date!\n"
          ]
        }
      ]
    },
    {
      "cell_type": "markdown",
      "source": [
        "## Gove2"
      ],
      "metadata": {
        "id": "bcLH56Vq0S2h"
      }
    },
    {
      "cell_type": "code",
      "source": [
        "import numpy as np\n",
        "import re\n",
        "\n",
        "# Load GloVe word vectors into a dictionary\n",
        "glove_file_path = '/content/drive/MyDrive/GloveText/glove.txt'  # Replace with your GloVe file path\n",
        "word_vectors = {}\n",
        "with open(glove_file_path, 'r', encoding='utf-8') as f:\n",
        "    for line in f:\n",
        "        values = line.split()\n",
        "        word = values[0]\n",
        "        vector = np.asarray(values[1:], dtype='float32')\n",
        "        word_vectors[word] = vector\n",
        "\n",
        "# Job description and resume text (same as before)\n",
        "job_description = \"\"\"\n",
        "We are seeking a skilled Python Developer to join our dynamic team. As a Python Developer, you will be responsible for developing and maintaining high-quality software applications, utilizing your expertise in Python programming. The ideal candidate should have a strong foundation in Python, excellent problem-solving abilities, and a passion for creating efficient and scalable solutions.\n",
        "\n",
        "\"\"\"\n",
        "\n",
        "resume_text = \"\"\"\n",
        "SIDDHESH MHATRE\n",
        "SOFTWARE DEVELOPER\n",
        "...\n",
        "Skills\n",
        "Languages Python , java, pandas ,HTML/CSS, MySQL\n",
        "...\n",
        "Experience\n",
        "Infogen Labs Inc remote\n",
        "MACHINE LEARNING INTERNSHIP Dec 2023 - Present\n",
        "• Engaged in developing and implementing machine learning models for data analysis tasks.\n",
        "• Completed self-paced projects in Python focusing on data prepossessing and basic machine learning models (e.g., regression, classification.\n",
        "...\n",
        "Projects\n",
        "Dog Skin Diseases Detection and Identification using CNN\n",
        "...\n",
        "ResuMatch - AI-Powered Resume Selection\n",
        "...\n",
        "Achievements\n",
        "Publication: Springer Scopus (ICACI-2022)\n",
        "...\n",
        "Certifications\n",
        "• GraphQL with React and Node js - View\n",
        "...\n",
        "\"\"\"\n",
        "\n",
        "# Preprocess text (remove non-alphanumeric characters and convert to lowercase)\n",
        "def preprocess_text(text):\n",
        "    text = re.sub(r'[^a-zA-Z0-9\\s]', '', text)\n",
        "    return text.lower()\n",
        "\n",
        "# Preprocess job description and resume text\n",
        "cleaned_job_description = preprocess_text(job_description)\n",
        "cleaned_resume_text = preprocess_text(resume_text)\n",
        "\n",
        "# Tokenize the cleaned text\n",
        "tokenized_job_description = cleaned_job_description.split()\n",
        "tokenized_resume_text = cleaned_resume_text.split()\n",
        "\n",
        "# Calculate average word vectors for job description and resume\n",
        "job_desc_vectors = [word_vectors[word] for word in tokenized_job_description if word in word_vectors]\n",
        "resume_vectors = [word_vectors[word] for word in tokenized_resume_text if word in word_vectors]\n",
        "\n",
        "if job_desc_vectors and resume_vectors:\n",
        "    job_desc_avg_vector = sum(job_desc_vectors) / len(job_desc_vectors)\n",
        "    resume_avg_vector = sum(resume_vectors) / len(resume_vectors)\n",
        "\n",
        "    # Calculate cosine similarity between job description and resume\n",
        "    cosine_sim = np.dot(job_desc_avg_vector, resume_avg_vector) / (np.linalg.norm(job_desc_avg_vector) * np.linalg.norm(resume_avg_vector))\n",
        "\n",
        "    # Set a threshold for similarity score to determine eligibility\n",
        "    similarity_threshold = 0.8  # Adjust as needed\n",
        "\n",
        "    # Assess eligibility based on cosine similarity\n",
        "    if cosine_sim >= similarity_threshold:\n",
        "        eligibility_status = \"Eligible\"\n",
        "    else:\n",
        "        eligibility_status = \"Not Eligible\"\n",
        "\n",
        "    # Print cosine similarity and eligibility status\n",
        "    print(f\"Cosine Similarity: {cosine_sim}\")\n",
        "    print(\"Eligibility Status:\", eligibility_status)\n",
        "else:\n",
        "    print(\"No word vectors found for job description or resume.\")\n"
      ],
      "metadata": {
        "colab": {
          "base_uri": "https://localhost:8080/"
        },
        "id": "4lGRL79v4Gmn",
        "outputId": "57bc6a52-7497-489a-c3df-2f3f8c21335a"
      },
      "execution_count": null,
      "outputs": [
        {
          "output_type": "stream",
          "name": "stdout",
          "text": [
            "Cosine Similarity: 0.9155762195587158\n",
            "Eligibility Status: Eligible\n"
          ]
        }
      ]
    },
    {
      "cell_type": "code",
      "source": [
        "word_vectors['apple']"
      ],
      "metadata": {
        "id": "4i6a6v6j6xL4",
        "colab": {
          "base_uri": "https://localhost:8080/"
        },
        "outputId": "f2a87b60-82bb-40bc-8ebd-6d27cd8f7d5d"
      },
      "execution_count": null,
      "outputs": [
        {
          "output_type": "execute_result",
          "data": {
            "text/plain": [
              "array([-0.5985   , -0.46321  ,  0.13001  , -0.019576 ,  0.4603   ,\n",
              "       -0.3018   ,  0.8977   , -0.65634  ,  0.66858  , -0.49164  ,\n",
              "        0.037557 , -0.050889 ,  0.6451   , -0.53882  , -0.3765   ,\n",
              "       -0.04312  ,  0.51384  ,  0.17783  ,  0.28596  ,  0.92063  ,\n",
              "       -0.49349  , -0.48583  ,  0.61321  ,  0.78211  ,  0.19254  ,\n",
              "        0.91228  , -0.055596 , -0.12512  , -0.65688  ,  0.068557 ,\n",
              "        0.55629  ,  1.611    , -0.0073642, -0.48879  ,  0.45493  ,\n",
              "        0.96105  , -0.063369 ,  0.17432  ,  0.9814   , -1.3125   ,\n",
              "       -0.15801  , -0.54301  , -0.13888  , -0.26146  , -0.3691   ,\n",
              "        0.26844  , -0.24375  , -0.19484  ,  0.62583  , -0.7377   ,\n",
              "        0.38351  , -0.75004  , -0.39053  ,  0.091498 , -0.36591  ,\n",
              "       -1.4715   , -0.45228  ,  0.2256   ,  1.1412   , -0.38526  ,\n",
              "       -0.06716  ,  0.57288  , -0.39191  ,  0.31302  , -0.29235  ,\n",
              "       -0.96157  ,  0.15154  , -0.21659  ,  0.25103  ,  0.096967 ,\n",
              "        0.2843   ,  1.4296   , -0.50565  , -0.51374  , -0.47218  ,\n",
              "        0.32036  ,  0.023149 ,  0.22623  , -0.09725  ,  0.82126  ,\n",
              "        0.92599  , -1.0086   , -0.38639  ,  0.86408  , -1.206    ,\n",
              "       -0.28528  ,  0.2265   , -0.38773  ,  0.40879  ,  0.59303  ,\n",
              "        0.30769  ,  0.83804  , -0.63655  , -0.44639  , -0.43406  ,\n",
              "       -0.79364  , -0.28675  , -0.034398 ,  1.3431   ,  0.34904  ],\n",
              "      dtype=float32)"
            ]
          },
          "metadata": {},
          "execution_count": 8
        }
      ]
    },
    {
      "cell_type": "code",
      "source": [],
      "metadata": {
        "id": "OPmq7zaa30yK"
      },
      "execution_count": null,
      "outputs": []
    }
  ]
}