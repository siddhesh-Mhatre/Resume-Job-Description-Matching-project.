{
  "cells": [
    {
      "cell_type": "markdown",
      "metadata": {
        "id": "y2Go2UQD3kzy"
      },
      "source": [
        "# Creating own lemma_dict dictonary"
      ]
    },
    {
      "cell_type": "code",
      "execution_count": null,
      "metadata": {
        "colab": {
          "base_uri": "https://localhost:8080/"
        },
        "id": "jlTcvIBW3Aey",
        "outputId": "30b8adf0-1e10-4ec4-c293-41f972750fe4"
      },
      "outputs": [
        {
          "name": "stdout",
          "output_type": "stream",
          "text": [
            "Lemmatized tokens: ['I', 'have', 'experience', 'with', 'python', 'reactjs', 'and', 'java']\n"
          ]
        }
      ],
      "source": [
        "import re\n",
        "\n",
        "skill_lemma_dict = {\n",
        "    \"reactjs\": [\"react.js\", \"react js\", \"react\"],\n",
        "    \"python\": [\"python\",\"py\"],\n",
        "    \"java\": [\"java\"],\n",
        "    \"cpp\":[\"c++\",\"c programing\",\"c\"],\n",
        "    \"sql\":[\"mysql\",\"sql\",\"postgresql\"]\n",
        "}\n",
        "\n",
        "def custom_lemmatizer(text, lemma_dict):\n",
        "    tokens = re.findall(r'\\b\\w+\\b', text)  # Tokenize text while handling punctuation\n",
        "    lemmatized_tokens = []\n",
        "    for token in tokens:\n",
        "        found = False\n",
        "        for key, val in lemma_dict.items():\n",
        "            if token.lower() in val:\n",
        "                lemmatized_tokens.append(key)\n",
        "                found = True\n",
        "                break\n",
        "        if not found:\n",
        "            lemmatized_tokens.append(token)\n",
        "    return lemmatized_tokens\n",
        "\n",
        "# Example usage:\n",
        "text = \"I have experience with Py, React, and Java.\"\n",
        "lemmatized_tokens = custom_lemmatizer(text, skill_lemma_dict)\n",
        "print(\"Lemmatized tokens:\", lemmatized_tokens)\n"
      ]
    },
    {
      "cell_type": "markdown",
      "metadata": {
        "id": "n3DpeqKI31KJ"
      },
      "source": [
        "# Extract clean text from resume"
      ]
    },
    {
      "cell_type": "code",
      "execution_count": null,
      "metadata": {
        "colab": {
          "base_uri": "https://localhost:8080/"
        },
        "id": "kZ4ZxHFg4Lm1",
        "outputId": "9db53ee4-1c5d-443e-8085-12d80bce21ca"
      },
      "outputs": [
        {
          "name": "stdout",
          "output_type": "stream",
          "text": [
            "Collecting PyPDF2\n",
            "  Downloading pypdf2-3.0.1-py3-none-any.whl (232 kB)\n",
            "\u001b[2K     \u001b[90m━━━━━━━━━━━━━━━━━━━━━━━━━━━━━━━━━━━━━━━━\u001b[0m \u001b[32m232.6/232.6 kB\u001b[0m \u001b[31m1.8 MB/s\u001b[0m eta \u001b[36m0:00:00\u001b[0m\n",
            "\u001b[?25hInstalling collected packages: PyPDF2\n",
            "Successfully installed PyPDF2-3.0.1\n"
          ]
        }
      ],
      "source": [
        "!pip install PyPDF2"
      ]
    },
    {
      "cell_type": "code",
      "execution_count": null,
      "metadata": {
        "colab": {
          "base_uri": "https://localhost:8080/"
        },
        "id": "vwaxBlWK3iRv",
        "outputId": "69721d56-01fb-4eee-b9d0-f650aeb7cc46"
      },
      "outputs": [
        {
          "name": "stdout",
          "output_type": "stream",
          "text": [
            "hobbies interests problem solving technophile astroexplorationskills python cpp bootstrap react js html css mysql projects dog skin diseases detection and identification using cnn github a cnn based system for identifying skin diseases in dogs by analyzing images of their skin python tensorflow deep learning cnn quote app github the quote app allows multiple users to share create read update and delete their own quotes in real time reactjs graphql mongodb publications title dog skin diseases detection and identification using convolutional neural networks journal conference springer scopus icaci 2022 certification siddhesh mhatre siddeshmhatre1649 91 9892865762 linkedingithubportfoliokaggle internship bharat intern machine learning certification data visualisation empowering business with effective insights certificationeducation annasaheb vartak college of arts commerce science university of mumbai bsc in information technology cgpa 8 92 10 aug 2022thakur college of commerce and science msc information technology cgpa 9 0 10 present 2023 certifications graphql with react node js real time private chat app udemy view databases and sql for data science with python coursera view python basic certificate view \n"
          ]
        }
      ],
      "source": [
        "import PyPDF2\n",
        "\n",
        "def extract_text_from_pdf(file_path):\n",
        "    with open(file_path, 'rb') as file:\n",
        "        reader = PyPDF2.PdfReader(file)\n",
        "        text = ''\n",
        "        for page in reader.pages:\n",
        "            text += page.extract_text()\n",
        "    return text\n",
        "\n",
        "# Example usage\n",
        "resume_path = '/content/Siddhesh Mhatre.pdf'\n",
        "resume_text = extract_text_from_pdf(resume_path)\n",
        "\n",
        "\n",
        "\n",
        "import re\n",
        "def clean_function(resumeText):\n",
        "    resumeText = re.sub('http\\S+\\s*', ' ', resumeText)  # remove URLs\n",
        "    resumeText = re.sub('RT|cc', ' ', resumeText)  # remove RT and cc\n",
        "    resumeText = re.sub('#\\S+', '', resumeText)  # remove hashtags\n",
        "    resumeText = re.sub('@\\S+', '  ', resumeText)  # remove mentions\n",
        "    resumeText = re.sub('[%s]' % re.escape(\"\"\"!\"#$%&'()*+,-./:;<=>?@[\\]^_`{|}~\"\"\"), ' ', resumeText)  # remove punctuations\n",
        "    resumeText = re.sub(r'[^\\x00-\\x7f]',r' ', resumeText)\n",
        "    resumeText = re.sub('\\s+', ' ', resumeText)  # remove extra whitespace\n",
        "    return resumeText\n",
        "\n",
        "print(clean_function(resume_text.lower()))\n",
        "cleaned_textOf_resume=clean_function(resume_text.lower())"
      ]
    },
    {
      "cell_type": "markdown",
      "metadata": {
        "id": "qJKsUv8k62mr"
      },
      "source": [
        "# Enhance keyword's"
      ]
    },
    {
      "cell_type": "code",
      "execution_count": null,
      "metadata": {
        "id": "IEAgNY6d4HkV"
      },
      "outputs": [],
      "source": [
        "lemmatized_tokens = custom_lemmatizer(cleaned_textOf_resume, skill_lemma_dict)\n",
        "lemmatized_tokens = list(set(lemmatized_tokens))"
      ]
    },
    {
      "cell_type": "markdown",
      "metadata": {
        "id": "id5J8DF17BcV"
      },
      "source": [
        "# Finding score"
      ]
    },
    {
      "cell_type": "code",
      "execution_count": null,
      "metadata": {
        "colab": {
          "base_uri": "https://localhost:8080/"
        },
        "id": "fJJfb8IQ6X3o",
        "outputId": "481ff902-93f3-4a18-e956-13d3d2d83f6c"
      },
      "outputs": [
        {
          "name": "stdout",
          "output_type": "stream",
          "text": [
            "{'sql', 'python', 'reactjs'}\n",
            "Resume score: 42.86%\n"
          ]
        }
      ],
      "source": [
        "\n",
        "# Job description skills\n",
        "job_skills = [\"reactjs\", \"python\", \"java\", \"Sql\",\"sql\",\"azur\",\"aws\"]\n",
        "# Calculate the number of matching skills\n",
        "matching_skills = set(lemmatized_tokens).intersection(job_skills)\n",
        "print(matching_skills)\n",
        "num_matching_skills = len(matching_skills)\n",
        "\n",
        "# Calculate the resume score as a percentage\n",
        "resume_score = (num_matching_skills / len(job_skills)) * 100\n",
        "\n",
        "print(f\"Resume score: {resume_score:.2f}%\")"
      ]
    },
    {
      "cell_type": "markdown",
      "metadata": {
        "id": "EekWnvJCdmPE"
      },
      "source": [
        "# New version"
      ]
    },
    {
      "cell_type": "code",
      "execution_count": null,
      "metadata": {
        "colab": {
          "base_uri": "https://localhost:8080/"
        },
        "id": "KJM9m9Dfdnp5",
        "outputId": "b5829ee3-3114-4bd1-af50-63e78fb035f0"
      },
      "outputs": [
        {
          "name": "stdout",
          "output_type": "stream",
          "text": [
            "['Languages', 'Python', 'java', 'pandas', 'HTML', 'CSS', 'MySQL', 'Frameworks', 'React', 'GraphQL']\n"
          ]
        }
      ],
      "source": [
        "import re\n",
        "\n",
        "resume_text = \"\"\"\n",
        "SIDDHESH MHATRE\n",
        "SOFTWARE DEVELOPER\n",
        "+91 9892865762 | siddeshmhatre1649@gmail.com |siddhesh-Mhatre |siddhesh-mhatre-1b44a31b1\n",
        "Education\n",
        "Thakur College of Commerce and Science, Mumbai University Mumbai\n",
        "MASTER OF SCIENCE IN INFORMATION TECHNOLOGY Expected Graduation: May 2024\n",
        "CGPA: 9.0/10\n",
        "Annasaheb Vartak College of Arts, Commerce, Science Mumbai\n",
        "BACHELOR OF SCIENCE IN INFORMATION TECHNOLOGY Aug 2022\n",
        "CGPA: 8.92/10\n",
        "Skills\n",
        "Languages Python, java, pandas, HTML/CSS, MySQL\n",
        "Frameworks React, GraphQL\n",
        "Experience\n",
        "Infogen Labs Inc remote\n",
        "MACHINE LEARNING INTERNSHIP Dec 2023-Present\n",
        "• Engaged in developing and implementing machine learning models for data analysis tasks.\n",
        "• Completed self-paced projects in Python focusing on data preprocessing and basic machine learning models (e.g., regression, classification).\n",
        "• Explored text processing techniques in Python (e.g., tokenization, stemming) to understand fundamental NLP concepts.\n",
        "Projects\n",
        "Dog Skin Diseases Detection and Identification using CNN\n",
        "• The project aims to develop an automated system for detecting and identifying various skin diseases in dogs using convolutional neural networks (CNNs) to analyze images of dog skin.\n",
        "• The project involves curating a large dataset of labeled images of dog skin diseases and training a CNN model on the dataset to accurately classify images into different categories of skin diseases such as mange, Ringworm, and fleas. technology:-Python, TensorFlow, Deep-Learning .(CNN))\n",
        "ResuMatch-AI-PoweredResumeSelection\n",
        "• Developed an innovative resume selection system using Machine Learning and Natural Language Processing techniques.\n",
        "• Utilized ML clustering algorithms to categorize resumes into job-specific clusters based on content similarity.\n",
        "• Implemented a keyword-based search functionality allowing HR to input job-specific keywords and efficiently filter resumes. technology:-NLP, Random-forest, NLTK, scikit-learn, Python\n",
        "Achievements\n",
        "Publication: SpringerScopus(ICACI-2022)\n",
        "• Published paper titled ”Dog Skin Diseases Detection and Identification Using Convolutional Neural Networks” (Authors: A.Upadhyay, S.Mhatre, P.Nadar) in SpringerScopus(ICACI-2022) on March 4, 2023 (DOI:s42979-022-01645-5).- provided_link\n",
        "Certifications\n",
        "• GraphQL with React and Nodejs- View\n",
        "• Databases and SQL for Data Science with Python- View\n",
        "• PowerBI for Beginners- View\n",
        "SoftSkills\n",
        "Communication Skills | Team Collaboration | Adaptability\n",
        "\"\"\"\n",
        "\n",
        "# Extracting text within the \"Skills\" section\n",
        "skills_section = re.search(r\"Skills(.+?)Experience\", resume_text, re.DOTALL)\n",
        "if skills_section:\n",
        "    skills_text = skills_section.group(1)\n",
        "    # Extracting words from the \"Skills\" section\n",
        "    skills_words = re.findall(r'\\b\\w+\\b', skills_text)\n",
        "    print(skills_words)\n"
      ]
    },
    {
      "cell_type": "code",
      "execution_count": null,
      "metadata": {
        "id": "qApadfAjdoOf"
      },
      "outputs": [],
      "source": [
        "text = ', '.join(skills_words)"
      ]
    },
    {
      "cell_type": "code",
      "execution_count": null,
      "metadata": {
        "colab": {
          "base_uri": "https://localhost:8080/",
          "height": 35
        },
        "id": "j5-BDTOleNMl",
        "outputId": "f2d0e731-19fd-42d8-8300-243d5ba5b011"
      },
      "outputs": [
        {
          "data": {
            "application/vnd.google.colaboratory.intrinsic+json": {
              "type": "string"
            },
            "text/plain": [
              "'Languages, Python, java, pandas, HTML, CSS, MySQL, Frameworks, React, GraphQL'"
            ]
          },
          "execution_count": 7,
          "metadata": {},
          "output_type": "execute_result"
        }
      ],
      "source": [
        "text"
      ]
    },
    {
      "cell_type": "code",
      "execution_count": null,
      "metadata": {
        "colab": {
          "base_uri": "https://localhost:8080/"
        },
        "id": "JpkJA3uUeERl",
        "outputId": "4a054189-8f3e-4f51-b11e-50b451ee744a"
      },
      "outputs": [
        {
          "data": {
            "text/plain": [
              "['GraphQL',\n",
              " 'java',\n",
              " 'python',\n",
              " 'CSS',\n",
              " 'Languages',\n",
              " 'pandas',\n",
              " 'reactjs',\n",
              " 'Frameworks',\n",
              " 'sql',\n",
              " 'HTML']"
            ]
          },
          "execution_count": 8,
          "metadata": {},
          "output_type": "execute_result"
        }
      ],
      "source": [
        "lemmatized_tokens = custom_lemmatizer(text, skill_lemma_dict)\n",
        "lemmatized_tokens = list(set(lemmatized_tokens))\n",
        "lemmatized_tokens"
      ]
    },
    {
      "cell_type": "code",
      "execution_count": null,
      "metadata": {
        "id": "OFHhI_vmeGQP"
      },
      "outputs": [],
      "source": [
        "job_skills = [\"reactjs\", \"python\", \"java\", \"Sql\",\"sql\",\"azur\",\"aws\"]"
      ]
    },
    {
      "cell_type": "code",
      "execution_count": null,
      "metadata": {
        "colab": {
          "base_uri": "https://localhost:8080/"
        },
        "id": "xcL_QT2seefP",
        "outputId": "fd65df5a-44d2-455d-b898-9bfaeb13d7c6"
      },
      "outputs": [
        {
          "name": "stdout",
          "output_type": "stream",
          "text": [
            "{'sql', 'java', 'reactjs', 'python'}\n",
            "Resume score: 57.14%\n"
          ]
        }
      ],
      "source": [
        "matching_skills = set(lemmatized_tokens).intersection(job_skills)\n",
        "print(matching_skills)\n",
        "num_matching_skills = len(matching_skills)\n",
        "\n",
        "# Calculate the resume score as a percentage\n",
        "resume_score = (num_matching_skills / len(job_skills)) * 100\n",
        "\n",
        "print(f\"Resume score: {resume_score:.2f}%\")"
      ]
    },
    {
      "cell_type": "code",
      "execution_count": null,
      "metadata": {
        "id": "n79QLJeyenew"
      },
      "outputs": [],
      "source": []
    }
  ],
  "metadata": {
    "colab": {
      "provenance": []
    },
    "kernelspec": {
      "display_name": "Python 3",
      "name": "python3"
    },
    "language_info": {
      "name": "python"
    }
  },
  "nbformat": 4,
  "nbformat_minor": 0
}
