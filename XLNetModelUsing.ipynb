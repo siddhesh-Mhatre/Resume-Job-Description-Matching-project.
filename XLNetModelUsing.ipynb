{
  "nbformat": 4,
  "nbformat_minor": 0,
  "metadata": {
    "colab": {
      "provenance": []
    },
    "kernelspec": {
      "name": "python3",
      "display_name": "Python 3"
    },
    "language_info": {
      "name": "python"
    }
  },
  "cells": [
    {
      "cell_type": "code",
      "source": [
        "import re\n",
        "def clean_function(resumeText):\n",
        "    resumeText = re.sub('http\\S+\\s*', ' ', resumeText)  # remove URLs\n",
        "    resumeText = re.sub('RT|cc', ' ', resumeText)  # remove RT and cc\n",
        "    resumeText = re.sub('#\\S+', '', resumeText)  # remove hashtags\n",
        "    resumeText = re.sub('@\\S+', '  ', resumeText)  # remove mentions\n",
        "    resumeText = re.sub('[%s]' % re.escape(\"\"\"!\"#$%&'()*+,-./:;<=>?@[\\]^_`{|}~\"\"\"), ' ', resumeText)  # remove punctuations\n",
        "    resumeText = re.sub(r'[^\\x00-\\x7f]',r' ', resumeText)\n",
        "    resumeText = re.sub('\\s+', ' ', resumeText)  # remove extra whitespace\n",
        "    return resumeText"
      ],
      "metadata": {
        "id": "upQhJNtBVdQq"
      },
      "execution_count": 9,
      "outputs": []
    },
    {
      "cell_type": "code",
      "source": [
        "job_des ='''Collaborate with cross-functional teams to design, develop, and maintain robust Python-based applications.\n",
        "Write efficient, reusable, and scalable code following best practices.\n",
        "Participate in code reviews, provide constructive feedback, and contribute to the continuous improvement of the development process.\n",
        " Work closely with stakeholders to gather requirements, understand business needs, and translate them into technical solutions.\n",
        "Implement data integration and data processing solutions using Python and related frameworks.\n",
        " Develop and maintain APIs for seamless communication between various systems.\n",
        " Troubleshoot, debug, and optimize application performance.\n",
        "Stay updated on industry trends and emerging technologies, recommending improvements to existing processes.\n",
        " Bachelor's degree in Computer Science, Engineering, or a related field.\n",
        "Proven experience as a Python Developer with a strong portfolio of projects.\n",
        "Solid understanding of software development principles and best practices.\n",
        " Proficiency in Python and knowledge of Python web frameworks (Django, Flask).\n",
        " Experience with database systems (e.g., PostgreSQL, MySQL, MongoDB).\n",
        "Familiarity with front-end technologies (HTML, CSS, JavaScript) is a plus.\n",
        "Strong problem-solving skills and the ability to work independently and collaboratively.\n",
        "Excellent communication skills and the ability to translate complex ideas into clear technical specifications.\n",
        "Experience with cloud platforms (AWS, Azure, Google Cloud).\n",
        " Knowledge of containerization and orchestration tools (Docker, Kubernetes).\n",
        "Familiarity with version control systems (Git).\n",
        "Understanding of Agile/Scrum methodologies.'''\n",
        "\n",
        "resume ='''Siddhesh Mhatre\n",
        "[Contact Information]\n",
        "Objective:\n",
        "Detail-oriented and results-driven Python Developer with [X years] of experience in designing, developing, and maintaining scalable applications. Seeking an opportunity at [Company Name] to contribute to innovative projects and leverage my expertise in Python programming.\n",
        "Education\n",
        "Master of Science in Computer Science, [University Name], [Year of Graduation]\n",
        "Bachelor of Science in Computer Science, [University Name], [Year of Graduation]\n",
        "Professional Experience:\n",
        "\n",
        "Python Developer | [Current Company], [Location] | [Dates]\n",
        "\n",
        "Collaborated with a cross-functional team to develop and maintain Python-based applications for [specific projects].\n",
        "Implemented data integration solutions, ensuring seamless communication between different systems.\n",
        "Conducted code reviews, provided feedback, and contributed to process improvements.\n",
        "Software Developer Intern | [Previous Company], [Location] | [Dates]\n",
        "\n",
        "Assisted in the design and development of web applications using Python and related technologies.\n",
        "Participated in troubleshooting, debugging, and optimization of application performance.\n",
        "Contributed to the development of APIs and database integration.\n",
        "Technical Skills:\n",
        "\n",
        "Programming Languages: Python, JavaScript\n",
        "Web Frameworks: Django, Flask\n",
        "Database Systems: PostgreSQL, MySQL, MongoDB\n",
        "Version Control: Git\n",
        "Cloud Platforms: AWS, Azure (optional)\n",
        "Tools: Docker, Kubernetes (optional)\n",
        "Projects:\n",
        "[Project Name] | [Year]\n",
        "\n",
        "Description: [Brief overview of the project, technologies used, and your role]\n",
        "Link: [GitHub repository or live project link]\n",
        "Certifications:\n",
        "\n",
        "[Certification Name] | [Certifying Body] | [Year]\n",
        "Soft Skills:\n",
        "\n",
        "Problem-Solving\n",
        "Team Collaboration\n",
        "Communication\n",
        "Adaptability'''\n",
        "\n"
      ],
      "metadata": {
        "id": "crvUq5YVVJrj"
      },
      "execution_count": 12,
      "outputs": []
    },
    {
      "cell_type": "code",
      "source": [
        "job_des =clean_function(job_des)\n",
        "resume = clean_function(resume)"
      ],
      "metadata": {
        "id": "ihjouzcrWLG4"
      },
      "execution_count": 13,
      "outputs": []
    },
    {
      "cell_type": "code",
      "execution_count": 14,
      "metadata": {
        "colab": {
          "base_uri": "https://localhost:8080/"
        },
        "id": "7NJTnTMrTfvw",
        "outputId": "d41bf504-f8f4-43b0-ac15-3c6ffddc8b2e"
      },
      "outputs": [
        {
          "output_type": "stream",
          "name": "stdout",
          "text": [
            "The resume is a good match for the job description.\n"
          ]
        }
      ],
      "source": [
        "# Import necessary libraries\n",
        "from transformers import XLNetModel, XLNetTokenizer\n",
        "import torch\n",
        "\n",
        "# Load pre-trained model and tokenizer\n",
        "model = XLNetModel.from_pretrained('xlnet-base-cased')\n",
        "tokenizer = XLNetTokenizer.from_pretrained('xlnet-base-cased')\n",
        "\n",
        "# Define the texts\n",
        "texts = [job_des, resume]\n",
        "\n",
        "# Compute embeddings for each text\n",
        "import numpy as np\n",
        "embeddings = []\n",
        "for text in texts:\n",
        "    # Tokenize and encode the text\n",
        "    input_ids = tokenizer.encode(text, add_special_tokens=True)\n",
        "\n",
        "    # Convert input ids to tensor\n",
        "    input_ids = torch.tensor([input_ids])\n",
        "\n",
        "    # Compute embeddings\n",
        "    with torch.no_grad():\n",
        "        last_hidden_states = model(input_ids)[0]\n",
        "\n",
        "    # Compute sentence embeddings\n",
        "    sentence_embedding = torch.mean(last_hidden_states, dim=1).numpy()\n",
        "\n",
        "    # Add the embedding to the list\n",
        "    embeddings.append(sentence_embedding)\n",
        "\n",
        "# Compute cosine similarity between the embeddings\n",
        "cosine_sim = np.dot(embeddings[0].flatten(), embeddings[1].flatten()) / (np.linalg.norm(embeddings[0]) * np.linalg.norm(embeddings[1]))\n",
        "\n",
        "# Print a readable output\n",
        "if cosine_sim > 0.8:\n",
        "    print(\"The resume is a good match for the job description.\")\n",
        "else:\n",
        "    print(\"The resume is not a good match for the job description.\")\n"
      ]
    },
    {
      "cell_type": "code",
      "source": [
        "# cosine simlarity\n",
        "cosine_sim\n"
      ],
      "metadata": {
        "colab": {
          "base_uri": "https://localhost:8080/"
        },
        "id": "kFccWeADT3Wq",
        "outputId": "89427cef-645f-4080-c3bf-03711f33134b"
      },
      "execution_count": 15,
      "outputs": [
        {
          "output_type": "execute_result",
          "data": {
            "text/plain": [
              "0.98545474"
            ]
          },
          "metadata": {},
          "execution_count": 15
        }
      ]
    },
    {
      "cell_type": "code",
      "source": [],
      "metadata": {
        "id": "luT1pkYHUUFx"
      },
      "execution_count": null,
      "outputs": []
    }
  ]
}